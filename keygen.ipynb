{
 "cells": [
  {
   "cell_type": "code",
   "execution_count": 7,
   "metadata": {},
   "outputs": [],
   "source": [
    "import random\n",
    "\n",
    "p = 31\n",
    "Fp = GF(p)\n",
    "n = 256\n",
    "k = 52\n",
    "r = n-k\n",
    "t = n\n",
    "z = 3\n",
    "Fz = GF(z)\n",
    "lamb = 128\n"
   ]
  },
  {
   "cell_type": "code",
   "execution_count": 8,
   "metadata": {},
   "outputs": [],
   "source": [
    "#Creo Generatore g del Campo E\n",
    "def get_generator(p, z, Fp):\n",
    "    assert is_prime(p),\"p is not prime!\"\n",
    "    assert (p-1)%z == 0, \"z does not divide p-1!\"\n",
    "    alpha = Fp.primitive_element()\n",
    "    #non ricordo perchè exp e g sono scelti secondo questa logica\n",
    "    exp = (p-1)/z\n",
    "    g = alpha**exp\n",
    "    return g\n",
    "\n",
    "#Creo vettore errore con elementi in E e lunghezza V \n",
    "def create_vEn(g, n, Fp, seed):\n",
    "    set_random_seed(seed)\n",
    "    η = random_vector(Fz, n)\n",
    "    e = vector(Fp, n)\n",
    "    #va permutato?\n",
    "    for i in range(0, n):#range check\n",
    "        e[i] = (g**η[i])\n",
    "    return e\n",
    "\n",
    "def create_random_matrix(domain, n_rows, n_columns, seed):\n",
    "    set_random_seed(seed)\n",
    "    M = random_matrix(domain, n_rows, n_columns)\n",
    "    return M"
   ]
  },
  {
   "cell_type": "code",
   "execution_count": 9,
   "metadata": {},
   "outputs": [],
   "source": [
    "def key_gen():\n",
    "    set_random_seed()\n",
    "    seed_sk = initial_seed() \n",
    "    #seed_sk.bit_length()\n",
    "    #---------------CSPRNG DUBBIO----------------\n",
    "    seed_e = getrandbits(128)\n",
    "    seed_pk = getrandbits(128)\n",
    "    #--------------------------------------------   \n",
    "    V = create_random_matrix(Fp, k, r, seed_pk) \n",
    "    g = get_generator(p, z, Fp)\n",
    "    e = create_vEn(g, n, Fp, seed_e)\n",
    "    s = e[0:r] + e[r:n]*V\n",
    "    return seed_sk, seed_e, s"
   ]
  },
  {
   "cell_type": "code",
   "execution_count": 10,
   "metadata": {},
   "outputs": [
    {
     "name": "stdout",
     "output_type": "stream",
     "text": [
      "132193756609783557354315574529431455061\n",
      "132193756609783557354315574529431455062\n",
      "(1, 22, 10, 4, 28, 24, 3, 21, 7, 6, 25, 4, 15, 19, 17, 6, 21, 28, 21, 22, 23, 1, 24, 12, 18, 26, 13, 17, 3, 29, 1, 6, 21, 29, 5, 29, 11, 16, 21, 24, 10, 12, 1, 19, 21, 21, 21, 14, 16, 26, 25, 4, 18, 6, 25, 24, 29, 11, 25, 24, 21, 17, 16, 4, 5, 12, 12, 9, 11, 30, 7, 5, 21, 12, 21, 9, 21, 10, 22, 18, 18, 27, 25, 27, 20, 16, 28, 20, 21, 13, 5, 7, 25, 20, 28, 21, 23, 20, 29, 26, 9, 30, 26, 9, 1, 10, 3, 26, 11, 7, 21, 29, 19, 0, 25, 8, 6, 7, 22, 13, 1, 22, 16, 27, 8, 28, 25, 21, 3, 10, 22, 29, 2, 23, 4, 5, 28, 29, 20, 29, 30, 12, 11, 26, 22, 18, 26, 26, 20, 17, 21, 11, 0, 18, 8, 17, 2, 16, 10, 24, 0, 28, 25, 14, 30, 4, 21, 17, 22, 9, 24, 19, 28, 19, 2, 5, 22, 5, 27, 21, 1, 3, 14, 24, 10, 3, 26, 19, 20, 27, 20, 7, 13, 0, 5, 6, 17, 18, 0, 21, 0, 4, 7, 9)\n"
     ]
    }
   ],
   "source": [
    "seed_sk, seed_e, s = key_gen()\n",
    "print(seed_sk)\n",
    "print(seed_e)\n",
    "print(s)\n",
    "\n",
    "\n"
   ]
  },
  {
   "attachments": {},
   "cell_type": "markdown",
   "metadata": {},
   "source": []
  }
 ],
 "metadata": {
  "kernelspec": {
   "display_name": "SageMath 9.3",
   "language": "sage",
   "name": "sagemath"
  },
  "language_info": {
   "codemirror_mode": {
    "name": "ipython",
    "version": 3
   },
   "file_extension": ".py",
   "mimetype": "text/x-python",
   "name": "python",
   "nbconvert_exporter": "python",
   "pygments_lexer": "ipython3",
   "version": "3.7.10"
  },
  "orig_nbformat": 4
 },
 "nbformat": 4,
 "nbformat_minor": 2
}
