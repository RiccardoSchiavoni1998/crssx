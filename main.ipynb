{
 "cells": [
  {
   "cell_type": "code",
   "execution_count": 1287,
   "metadata": {
    "vscode": {
     "languageId": "python"
    }
   },
   "outputs": [],
   "source": [
    "#IMPORT\n",
    "import random\n",
    "from sage.modules.free_module import Module\n",
    "import hashlib\n",
    "from itertools import chain\n",
    "import hashlib\n",
    "import binascii\n",
    "import sys"
   ]
  },
  {
   "cell_type": "code",
   "execution_count": 1288,
   "metadata": {
    "vscode": {
     "languageId": "python"
    }
   },
   "outputs": [],
   "source": [
    "#PARAMS\n",
    "p = 31\n",
    "Fp = GF(p)\n",
    "n = 256\n",
    "k = 52\n",
    "r = n-k\n",
    "t = n\n",
    "z = 3\n",
    "Fz = GF(z)\n",
    "lamb = 128\n",
    "lev_leaf = log(t,2)\n",
    "Fp_set = Set(Fp)\n",
    "Fp_star = Fp_set.difference([0])\n",
    "msg = \"buonasera\""
   ]
  },
  {
   "cell_type": "code",
   "execution_count": 1289,
   "metadata": {
    "vscode": {
     "languageId": "python"
    }
   },
   "outputs": [],
   "source": [
    "#FUNZIONI DI UTILITA\n",
    "\n",
    "def generate_random_seed():\n",
    "    set_random_seed()\n",
    "    return initial_seed()\n",
    "\n",
    "def set_seed(seed):\n",
    "    set_random_seed(seed)\n",
    "    return initial_seed()\n",
    "\n",
    "def hash_and_get_seed(input):\n",
    "    hash = hashlib.sha256(str(input).encode()).digest()\n",
    "    seed = int.from_bytes(hash, 'big')\n",
    "    return seed\n",
    "\n",
    "def hexhash(input):\n",
    "    return hashlib.sha256(input.encode()).hexdigest()\n",
    "\n",
    "def convert_int_to_hash_string(input):\n",
    "    return input.to_bytes((input.bit_length() + 7) // 8, 'big').hex()\n",
    "\n",
    "def expand_seed(seed_init):\n",
    "    seed_str = str(seed_init)\n",
    "    seeds = hashlib.sha256(seed_str.encode()).digest()\n",
    "    \n",
    "    seed_1 = seeds[:16] #i primi 16 byte\n",
    "    seed_2 = seeds[16:] #gli ultimi 16 byte\n",
    "    \n",
    "    seed_1 = int.from_bytes(seed_1, 'big')\n",
    "    \n",
    "    seed_2 = int.from_bytes(seed_2, 'big')\n",
    "    \n",
    "    return seed_1, seed_2\n",
    "#t=8\n",
    "# #w = 5\n",
    "\n",
    "#0,2,4,5,7\n",
    "\n",
    "#Creo Generatore g del Campo E\n",
    "def get_generator(p, z, Fp):\n",
    "    assert is_prime(p),\"p is not prime!\"\n",
    "    assert (p-1)%z == 0, \"z does not divide p-1!\"\n",
    "    alpha = Fp.primitive_element()\n",
    "    #non ricordo perchè exp e g sono scelti secondo questa logica\n",
    "    exp = (p-1)/z\n",
    "    g = alpha**exp\n",
    "    return g\n",
    "\n",
    "def create_random_vector(domain, n_elems, seed):\n",
    "    set_seed(seed)\n",
    "    return random_vector(domain, n_elems)\n",
    "\n",
    "def create_random_matrix(domain, n_rows, n_columns, seed):\n",
    "    set_seed(seed)\n",
    "    M = random_matrix(domain, n_rows, n_columns)\n",
    "    return M\n",
    "\n",
    "#Creo vettore errore con elementi in E e lunghezza V \n",
    "def create_vEn(g, n, Fz, Fp, seed):\n",
    "    eta = create_random_vector(Fz, n, seed)\n",
    "    e = vector(Fp, n)\n",
    "    for i in range(0, n):#range check\n",
    "        e[i] = (g**eta[i])\n",
    "    return e\n",
    "\n",
    "def create_vector_over_Fp_star(Fp_star, t, seed):\n",
    "    set_random_seed(seed)\n",
    "    return [Fp_star.random_element() for i in range(t)]\n",
    "\n",
    "def componentwise_multiply(v1, v2):\n",
    "    if len(v1) != len(v2):\n",
    "        raise ValueError(\"I vettori devono avere la stessa dimensione\")\n",
    "    \n",
    "    result = vector(GF(p), len(v1))  # Crea un nuovo vettore per i risultati\n",
    "    for i in range(len(v1)):\n",
    "        result[i] = v1[i] * v2[i]  # Moltiplica gli elementi corrispondenti\n",
    "    \n",
    "    return result"
   ]
  },
  {
   "cell_type": "code",
   "execution_count": 1290,
   "metadata": {
    "vscode": {
     "languageId": "python"
    }
   },
   "outputs": [],
   "source": [
    "#SEED TREE\n",
    "class SeedTree:\n",
    "    def __init__(self, depth, salt, seed_m):\n",
    "        if(depth>0):\n",
    "            self.seed_m = seed_m\n",
    "            self.depth = depth\n",
    "            self.salt = str(salt)\n",
    "            self.tree = None\n",
    "            self.full = False\n",
    "            self.seed_path = None\n",
    "        else:\n",
    "            raise Exception('Il numero delle foglie deve essere una porenza di 2')\n",
    "\n",
    "    #METODI PUBBLICI \n",
    "    def make_tree(self):\n",
    "        if self.full:\n",
    "            raise Exception('Albero gia creato')\n",
    "        else:\n",
    "            #BISOGNA AGGIUNGERE CONTROLLI?\n",
    "            self.tree = []\n",
    "            self.__make_tree(self.seed_m, 0)\n",
    "            self.full = True\n",
    "        \n",
    "    def get_leaves(self):\n",
    "        if self.full:\n",
    "            return self.tree[self.depth]\n",
    "        else:\n",
    "            raise Exception('Albero non creato')\n",
    "\n",
    "    def get_seed_path(self, list_nodes):\n",
    "        if self.full:\n",
    "            self.seed_path={}\n",
    "            self.__get_seed_path(self.depth-1, list_nodes)\n",
    "            return self.seed_path\n",
    "        else:\n",
    "            raise Exception('Albero non creato o foglia non valida')\n",
    "\n",
    "#da finire\n",
    "    def verify_proof(self, node, list_proof):\n",
    "        if self.full:  \n",
    "            list_proof.append(node)\n",
    "            return self.__verify_proof(list_proof)\n",
    "        else:\n",
    "            raise Exception('Albero non creato')  \n",
    "    \n",
    "    #METODI PRIVATI\n",
    "\n",
    "    def __make_tree(self, list_nodes, depth):\n",
    "        if(depth<=self.depth):\n",
    "            list_children = self.__create_new_level(list_nodes, depth)\n",
    "            self.tree.append(list_children)\n",
    "            self.__make_tree(list_children, depth+1)\n",
    "\n",
    "    def __create_new_level(self, parents, level):\n",
    "        children = []\n",
    "        if level == 0:\n",
    "            sx, dx = self.__compute_children_value(parents, '')\n",
    "            children.append(sx)\n",
    "            children.append(dx)\n",
    "        else:\n",
    "            base = 2**level\n",
    "            for i in range(0, len(parents)):\n",
    "                sx, dx = self.__compute_children_value(parents[i], base+i)\n",
    "                children.append(sx)\n",
    "                children.append(dx)\n",
    "        return children\n",
    "        \n",
    "    def __compute_children_value(self, seed_parent, index_parent):\n",
    "        nodes = str(seed_parent) + self.salt + str(index_parent)\n",
    "        sx, dx = expand_seed(int(nodes))  \n",
    "        return sx, dx\n",
    "    \n",
    "    #provvisorio\n",
    "    def __get_seed_path(self, depth, list_index):\n",
    "        if len(list_index)>0 and depth>0:\n",
    "            list_parent = sorted(list(set(map(lambda elem: ((elem // 2) + 1) if (elem // 2) % 2 == 0 else (elem // 2) - 1, list_index))))#prendo gli indici dei nodi padri eliminando i duplicati\n",
    "            list_sub_root = list(filter(lambda x: ((x % 2 == 0 and x + 1 not in list_parent) or (x % 2 != 0 and x - 1 not in list_parent)), list_parent))\n",
    "            list_new_children = list(filter(lambda x:  x not in list_sub_root, list_parent))\n",
    "            self.seed_path[depth] = dict(map(lambda x: (x, self.tree[depth][x]), list_new_children))\n",
    "            self.__get_seed_path(depth-1, list_new_children)\n",
    "        \n",
    "\n",
    "    #da finire\n",
    "    def __verify_proof(self, list_proof, index):\n",
    "        while len(list_proof) > 1:\n",
    "            ultimo = list_proof.pop()\n",
    "            penultimo = list_proof.pop()\n",
    "            to_hash= penultimo +ultimo\n",
    "            hash=hashlib.sha256(to_hash.encode()).hexdigest()\n",
    "            list_proof.append(hash)\n",
    "        return list_proof[0] == self.get_root()\n",
    " "
   ]
  },
  {
   "cell_type": "code",
   "execution_count": 1291,
   "metadata": {
    "vscode": {
     "languageId": "python"
    }
   },
   "outputs": [],
   "source": [
    "#MERKLE TREE\n",
    "\n",
    "class MerkleTree:\n",
    "    def __init__(self, n_leaves):\n",
    "        if(n_leaves%2==0):\n",
    "            self.n_leaves = n_leaves\n",
    "            self.depth = log(n_leaves, 2)\n",
    "            self.tree =  None\n",
    "            self.merkle_proof =  None\n",
    "            self.full = False\n",
    "        else:\n",
    "            raise Exception('Il numero delle foglie deve essere una porenza di 2')\n",
    "\n",
    "    #METODI PUBBLICI \n",
    "    def make_tree(self, leaves):\n",
    "        if isinstance(leaves, list) and len(leaves) == self.n_leaves and not(self.full):\n",
    "            self.tree = []\n",
    "            self.tree.append(leaves)\n",
    "            self.__make_tree(leaves, self.depth-1)\n",
    "            self.full = True\n",
    "        else:\n",
    "            raise Exception('Il numero delle foglie deve essere pari a {}'.format(self.n_leaves))\n",
    "       \n",
    "    def get_root(self):\n",
    "        if self.full:\n",
    "            return self.tree[0][0]\n",
    "        else:\n",
    "            raise Exception('Albero non creato')\n",
    "\n",
    "    def get_proof(self, list_nodes):\n",
    "        if all(self.full or 1 <= node <= 2**self.depth for node in list_nodes):\n",
    "            list_leaves = list(map(lambda x: x+1 if x % 2 == 0 else x-1, list_nodes))\n",
    "            list_leaves = list(filter(lambda x: x not in list_nodes, list_leaves))\n",
    "            list_indexes = self.__get_indexes(self.depth, list_leaves, [])\n",
    "            self.__get_merkle_proof(list_indexes)\n",
    "            return self.merkle_proof\n",
    "        else:\n",
    "            raise Exception('Albero non creato o foglia non valida')\n",
    "\n",
    "    #VEDREMO\n",
    "    def verify_proof(self, node, list_proof):\n",
    "        if self.full:  \n",
    "            list_proof.append(node)\n",
    "            return self.__verify_proof(list_proof)\n",
    "        else:\n",
    "            raise Exception('Albero non creato')  \n",
    "    \n",
    "    #METODI PRIVATI\n",
    "\n",
    "    def __make_tree(self, list_nodes, depth):\n",
    "        if(depth>=0):\n",
    "            list_parent = self.__create_new_level(list_nodes)\n",
    "            self.tree.insert(0, list_parent)\n",
    "            self.__make_tree(list_parent, depth-1)\n",
    "\n",
    "    def __create_new_level(self, child_nodes):\n",
    "        parents = []\n",
    "        for i in range(0, len(child_nodes), 2):\n",
    "            new_node = self.__compute_father_value(child_nodes[i], child_nodes[i+1])\n",
    "            parents.append(new_node)\n",
    "        return parents\n",
    "        \n",
    "    def __compute_father_value(self, sx, dx):\n",
    "        return hexhash(sx+dx)\n",
    "    \n",
    "    def __get_indexes(self, depth, list_index, list_proof):\n",
    "        if(depth > 0):\n",
    "            list_proof.insert(0, list_index)\n",
    "            list_parent = sorted(list(set(map(lambda elem: ((elem // 2) + 1) if (elem // 2) % 2 == 0 else (elem // 2) - 1, list_index))))\n",
    "            return self.__get_indexes(depth-1, list_parent, list_proof)\n",
    "        else:\n",
    "            return list_proof\n",
    "\n",
    "\n",
    "    def __get_merkle_proof(self, list_merkle_proofs):\n",
    "        self.merkle_proof = {}    \n",
    "        for i in range(len(list_merkle_proofs)): \n",
    "            current_proof = list_merkle_proofs[i] #controllo livello i esimo\n",
    "            if i < len(list_merkle_proofs) - 1:\n",
    "                next_proof = list_merkle_proofs[i+1]\n",
    "                current_proof = list(filter(lambda x: x*2 not in next_proof and (x*2)+1 not in next_proof, current_proof))\n",
    "            if not len(current_proof)==0:\n",
    "                self.merkle_proof[i+1] = dict(map(lambda x: (x, self.tree[i+1][x]), current_proof))\n",
    "\n",
    "    #da finire\n",
    "    def __verify_proof(self, list_proof, index):\n",
    "        while len(list_proof) > 1:\n",
    "            ultimo = list_proof.pop()\n",
    "            penultimo = list_proof.pop()\n",
    "            to_hash= penultimo +ultimo\n",
    "            hash=hashlib.sha256(to_hash.encode()).hexdigest()\n",
    "            list_proof.append(hash)\n",
    "        return list_proof[0] == self.get_root()"
   ]
  },
  {
   "cell_type": "code",
   "execution_count": 1292,
   "metadata": {
    "vscode": {
     "languageId": "python"
    }
   },
   "outputs": [],
   "source": [
    "#GENERAZIONE CHIAVI\n",
    "def key_gen():\n",
    "    seed_sk = generate_random_seed() \n",
    "    seed_e , seed_pk = expand_seed(seed_sk)\n",
    "    V = create_random_matrix(Fp, k, r, seed_pk) \n",
    "    g = get_generator(p, z, Fp)\n",
    "    e = create_vEn(g, n, Fz, Fp, seed_e)\n",
    "    s = e[0:r] + e[r:n]*V\n",
    "    return seed_sk, seed_pk, s\n"
   ]
  },
  {
   "cell_type": "code",
   "execution_count": 1293,
   "metadata": {
    "vscode": {
     "languageId": "python"
    }
   },
   "outputs": [],
   "source": [
    "#FIRMA\n",
    "def key_material_expansion(seed_sk):\n",
    "    seed_e , seed_pk = expand_seed(seed_sk)\n",
    "    V = create_random_matrix(Fp, k, r, seed_pk)\n",
    "    eta = create_random_vector(Fz, n, seed_e)\n",
    "    return V, eta\n",
    "\n",
    "def compute_commitment(V, eta):\n",
    "    seed_m = generate_random_seed() \n",
    "    seed_salt = generate_random_seed()\n",
    "    salt = hash_and_get_seed(seed_salt)\n",
    "    seed_tree = SeedTree(lev_leaf, salt, seed_m)\n",
    "    seed_tree.make_tree()\n",
    "    seeds = seed_tree.get_leaves()\n",
    "    cmt0 = [] \n",
    "    cmt1 = []\n",
    "    for i in range(0, t):\n",
    "        seed_ui, seed_ei = expand_seed(seeds[i])\n",
    "        eta_i = create_random_vector(Fz, n, seed_ei)\n",
    "        sigma_i = eta-eta_i #sigma_i ∈ Fz^ns\n",
    "        v = vector(Fp,n) #v∈ Fp^n\n",
    "        g = get_generator(p, z, Fp)\n",
    "        for j in range(0, n-1):\n",
    "            v[j] = (g**sigma_i[j])  \n",
    "        ui = create_random_vector(Fp, n, seed_ui)\n",
    "        u = componentwise_multiply(v, ui)\n",
    "        st = u[0:r] + u[r:n]*V\n",
    "        commit0 = hexhash( str(st) + str(sigma_i) + str(salt) + str(i) )\n",
    "        commit1 = hexhash( str(seeds[i]) + str(salt) + str(i) )\n",
    "        cmt0.append(commit0) \n",
    "        cmt1.append(commit1)\n",
    "    merkle_tree = MerkleTree(t)\n",
    "    merkle_tree.make_tree(cmt0)\n",
    "    c0 = merkle_tree.get_root()\n",
    "    input_c1 = \"\".join(map(str, cmt1))\n",
    "    c1 = hexhash(input_c1)\n",
    "    return seed_m, seeds, salt, c0, c1, merkle_tree, seed_tree\n",
    "\n",
    "def generate_first_challenge(c0, c1, msg, salt):\n",
    "    salt = convert_int_to_hash_string(salt)\n",
    "    input_ch1 = c0+c1+msg+salt\n",
    "    seed_ch1 = hash_and_get_seed(input_ch1)\n",
    "    ch1 = create_vector_over_Fp_star(Fp_star, t, seed_ch1)\n",
    "    return ch1\n",
    "\n",
    "def generate_first_response(seeds, ch1):\n",
    "    list_hash_yi=[]\n",
    "    for seed_i, ch_i_1 in zip(seeds, ch1):\n",
    "        seed_ui, seed_ei = expand_seed(seed_i)\n",
    "        g = get_generator(p, z, Fp)\n",
    "        ei = create_vEn(g, n, Fz, Fp, seed_ei)\n",
    "        ui = create_random_vector(Fp, n, seed_ui)\n",
    "        yi = ui+(ch_i_1)*ei\n",
    "        hi = hexhash(str(yi))\n",
    "        list_hash_yi.append(hi)\n",
    "    h = hexhash(\"\".join(list_hash_yi))\n",
    "    return ch1, h\n",
    "\n",
    "def generate_second_challenge(c0, c1, msg, salt, ch1, h):#, seed_tree):\n",
    "    salt = convert_int_to_hash_string(salt)\n",
    "    input_ch2 = c0+c1+\"\".join(map(str, ch1))+h+msg+salt\n",
    "    seed_ch2 = hash_and_get_seed(input_ch2)\n",
    "    ch2 = create_random_vector(GF(2), t, seed_ch2)\n",
    "    return ch2\n",
    "\n",
    "def generate_second_response(ch2, merkle_tree, seed_tree):\n",
    "    index_1, index_0 = [], []\n",
    "    [index_1.append(i) if x == 1 else index_0.append(i) for i, x in enumerate(ch2)]\n",
    "    merkle_proofs = merkle_tree.get_proof(index_0)\n",
    "    seed_path = seed_tree.get_seed_path(index_1)\n",
    "    return merkle_proofs, seed_path\n"
   ]
  },
  {
   "cell_type": "code",
   "execution_count": 1294,
   "metadata": {
    "vscode": {
     "languageId": "python"
    }
   },
   "outputs": [],
   "source": [
    "seed_sk, seed_pk, s = key_gen()\n",
    "V, eta = key_material_expansion(seed_sk)\n",
    "seed_m, seeds, salt, c0, c1, merkle_tree, seed_tree = compute_commitment(V, eta)\n",
    "ch1 = generate_first_challenge(c0, c1, msg, salt)\n",
    "ch1, h = generate_first_response(seeds, ch1)\n",
    "ch2 = generate_second_challenge(c0, c1, msg, salt, ch1, h)\n",
    "merkle_proofs, seed_path = generate_second_response(ch2, merkle_tree, seed_tree)"
   ]
  },
  {
   "cell_type": "code",
   "execution_count": 1295,
   "metadata": {
    "vscode": {
     "languageId": "python"
    }
   },
   "outputs": [
    {
     "name": "stdout",
     "output_type": "stream",
     "text": [
      "{6: {1: 'ddbd296dfb3f87714b519e1cf598f428d3fad2fb10c8bf7c739fe9a14b4b6af2', 6: '597d133add0896903d2a43c0200c7bf1356da4edab08a223d7bd62349c8ced75', 14: 'c2e83b38f1c187ae18ed0f99d7b4e71212accf2cb19e83098f72b521bd2e9dcb', 18: 'be4e7ab9aa2b8c0553e62eb24929b8b5f464d47aa654415e17fe4760b9e0ed2f', 23: '87cca0aa1022773c03d1008683408e9f0ed776465a819fd4e2dcf0229b014003', 26: '7183d533f1f8796397050626ddf5d21fdb25a974772a6e0edf4a18d65a74e06e', 33: '8f9d9785d69780ee2c0a0bd9f8ce1976ae23b2ab73f78732f002ca0ce0e30b3a', 36: '4e97cd54a2b2db1b8591b6e8a3a0b45cf10dca53a2478d272df88d04883a6353', 38: 'ac0e1d35f018d933ec88c86dc42e732f744d68a4f64433c4bdf1691684fe3f53', 43: 'df84e2fb3bd26c79e00ae121b78bdbea2cb122cf4eb3b9b9ba2461a704fa1604', 45: '7e9d84a87d3d8c4d4f65b5084d49e40ae4c758ff7a8105859cf2bd2e1e8ce0c8', 47: '3d0bfc7816df3242fc0f018d8c048577d3c237e04d89b48793c33ed63fea383c', 54: '73d6ea882c9185c87e896484610626890688393a570dc86e8017c0874ed6c322', 56: 'c0257141c8ce8cccbc3d89821ac59046d21c44e6648dd9de05b58f8cc62d8c25', 59: 'd807c42e33c4f6f217d23802ac4f57c2ee6ab4812bf643c992d3dcd406c91888'}, 7: {0: '5fdea660881541c6d87de8aead5fe9b5c0f1d3a882cac925892a3de004f96f59', 5: '4004ce797af3bf9ea99e7eeca8b1646124affe7957cd2dd02a456708de13e23e', 14: '74507db60fae992472fe9eb13baa55dcf388af1389fa77a2e85c4fa2fe2b3b09', 19: 'd4469bda41c4bfdffc285e1259e9085452d97f8ce87a1571010fb974f19ff595', 20: 'db6d6b537d90579861048ee981a461a0fd6963b261b4b0fc6dd52669beda2482', 23: '1f7b397baa348bf3e116e9312315b42e0b39238654179362de1924faf22b99e9', 24: '27a76c92fdfc553a9a17d4a789345b2097f7a84f31e4b815bafa11b303dd82ec', 27: 'c02b11960a16d17772403e1792c343685a3589eb6c39f9cb34fcb2d0559e8fd3', 31: '5a1258d9dbdd74d4d7b07303d884177967255ccdacda2608ebfd8fd905acca8d', 40: '26e5fabd8193b56af49c9934bfed809590f50fec83b789dc02aca1fd3893f69b', 43: '368b1dedfb5f1da59c1aa404870393dc3274f6b1951665cc745d9a574fd19ca8', 44: '6506d4ca23962c13034f01f069f9da5a201bb861645b9de51af5ff76ab06b9fe', 48: '44722f0cf467e33a26732bc4e2456159a7ecffc72b28568ca7016cb99464bd64', 54: '425ed4f93842e02c3f5d18b5ddbf883d21f4bd965fa3f2b7c0c0c298b12014b8', 57: '76762f46c1572c653bcfd864c0e0af293c1816d48bdc4ccce1be638f37a748a1', 60: 'e4bde93f8f660edaf18377c64a3552285b8e6baf243bc4a94f4f1818aa98544d', 63: '4ae132b476e5044b041967009ac3b6bcea0e55129dc8f65a34aa036b0343fcd4', 68: '2911989eb9185038ad3aa68799dcdcae47240475c4426d77b416f3e2be4944fe', 71: 'ac65e50afecdd9bc2b64f602c3e4533d4b798299b7cf388489346b7889fcf267', 74: 'd9126bd3d61083ac9dbf26764f6a67bafc0eb3132a8453f5f908d6fa882f0be7', 79: 'b1017245115f1e9d266717ff464e40f4d939b1481e93c8d974dc26e17cb75915', 80: 'db20f4060c8e1a98f0336f39d0bf7cd58a162adae17c136c3cf4266660c3ebc2', 84: '9ac4d99f874838ea132d63e8742c17356a9b0426c2b3c6440c27bbdfa840f601', 89: 'da2dda7d731c4517ac836fd7e89b26295ff3b51706f6059f48b83f808194bf60', 99: '6abae536955e6551368bedbd89ce72a4434cba5ac0b91a3e94b402edb94a3375', 100: '4821f8420595c0827a07c4a2a29968661f5117c45a0721f73b51d2df899ae8dc', 103: '26de3a3a899424f7930f9fabd8cafe48a9c81fa606ac12abecc69a4c9214696a', 105: '4e471db5d3e4479af21b3502a40304ed41cc8dd250a0ee1735fba12981156f50', 110: '38683dfe5bda53d121506eb2a20b15a8066ae77ec892a82c00252e7cc924d967', 115: '789a8088d4efdcea885f708bddfd2a0f5c22a1a59794acc75ed611bf81f3062c', 117: '1fcf10f10174dc572d93735aa8c71aa1ce8599075d399046147439176fb1bda7', 122: 'dd41f33d8ea53608f0f47075478888150a0996d69d98c80881dba58731c1c08f'}, 8: {2: 'e3f4bf80ded74398bbe752f5c75a9879448e2ea5217b6a312fb089c51263f0ab', 8: '31511e8369a663d5721e7bb5476043fe8a09ea0004b0fa0e7bbe47c3b1ce5081', 12: '41cb134ea89e5269bf35b2dbec76648f72d61fe136e64e50f789e85d11ffb10e', 14: '1e6665b310c72d2d6c22607cc7921f917861f532a8f38e85c2d8c3c0329dea0f', 17: '22370f1e62e5e04eec769458ad0e5cb80fff915058ac1fc06ec7e2ac88cc0de3', 18: '22743aa06f2ca8cfe5619ddc41be355b6661a1f8691b8d5f75f921fb839ee8ba', 20: '6ffff252813fa2b36daf728a25e8c7ada72faff4ecf92c2f0781c34bef2fbed4', 23: 'acad4e64c086c9c9e13544f7004de673e0c9c0537c9ff5478a72cc4a9b41626d', 30: '3ff78d09e2abb44188471c24708ce00973d4abfb3d02e7df8e2d4b640e282b86', 33: 'ff15d3d8970ee89c93d64a9e5dab993380b61e3140e744a8ef58ff214313f898', 35: '5ccc59500179059714b6e710987403dcfc978fa78cfd13165d017c430c4f812f', 36: '3cdeea4de924d38ea09fe093ac5e66079f0ed752a1c38861a90a17614f4e78e0', 43: 'bc7f82090ab2e1557dc78dc0b2a979a0115e350aa0dd12db5a8eb2260273321b', 45: '2c1439904a11c36d477980f03a87967d712d7b7c1b9a9fea43afcf464c8fd098', 50: '4e16e676e7023606755a96d747a81ae55773cfd9df9259f8b9b3ead83a9e1e8c', 53: '6dcae705a67b2431289544d5c8709c9bdef53ef777a8c685cb7c93daf29d9417', 61: '92028ccf3531ee0ff6882b9f035988a4e16c65b96617ca195e343949d547beef', 65: '81d2d44f5c1dc25dc11c0972e0f09108d650f45d005052e5049101176c5929f8', 67: '20f17273d25eeaecc54db3c505f0bb9d39845a829b54d5f89a6c8147ef6ace0d', 69: '6916488a538e8b543595f1a270447fd135a3aba7e695826cf48b37e1376ad5e8', 71: '4c6eef45449894211bca26855d5f2a74490119e069380d7565416ec508a30ce5', 76: '6df36a18b8bb5eff4ac55134fb4f48458ce20cf78e5c19731b8fe72aa0cdb6b6', 78: '2f6ba091ae19c1b391e1efa1151ae7314df3281c9aec095f4d2bc22ed84690bb', 83: 'f5b93d3400f0ef0b08ac6bf10b72ff810aa07444fe407d467b10ca39487d0220', 85: 'a53fe1e395ea951ab14edb6293f01d10d8adfe6ddcdea795c75668bd81b62cc5', 90: '55b58dbb8bb668599c1fb7c9edb16cf291c16602fa4a198c522abaf59ff3b35c', 99: 'a875b85e9558bcee7039774ac640e128ca546204a406f077f285975a48f6d0a3', 101: '502e619a8e1190683fb94fa5a89c52b86d8c03e28de10a589922d9af5aa3f750', 102: '417354d52248ac2b419a6e753f0fd46c267cc2f09a22f298346e3b4d0e82c14d', 111: 'a67408c905950e9c56a8935b323b502d1d79380dab690d30d3fe63ac0806ac18', 113: 'aa4b43ace76d59e4306f065ab60c99a503445a0127cddbbf5bfc5859518d5bd5', 117: '48d3f85808e5ad05bd067666ff11e4f27f142d59fb3e8e06ec020d2dd69b56a5', 119: 'd604758e263af87cb9f383d705c588fe91062b42256978881999d59d34023a94', 122: '2fcdfa290a7b2c37a13af4044a8d43b716ac3880b0670e09ab05d994eb06a528', 125: '9bd9158ac797c9b18b2615ab154e214d098b3827f9ceeaa9e3c3e43c2ba729cd', 128: '9f9930a75747a54d93bec9b040855bc26edf1d91348410e31feca70ddeee5e5c', 130: 'e85d613fd8f2f1e39ee6e7cf7ced7904430f01aa35c9de489ea7e52992f159b9', 139: '47f4bd207a28917d50898b1a4e8c7ab010253e4483090c3456bedbdd926c9059', 140: 'ded4c0d29fe89aa231d20e00ab2e7701fc68bc05e0b4a5b1216550d3b2a6e0cb', 151: 'f0d6e7e09d5669f168633b4f5ed7b7a5e852f5c3fdefb9a13825c89e5e819b8a', 157: '463937edaf366413219256ef189934769c4a1379417bc7668c5dc8d25590e596', 162: '10394a01f6da686de12510800cd49624ab6fb77cbc836ea13ef346abd4e10beb', 164: '1b2a4128db9cc7d131e5490b1201d6d656ba8913b5c841f19007609da92d600d', 167: '5b1e09c2eef866ae36c6ddcc7875149968e8d3766c7fb4403700b3aa3f67e250', 170: '0563352ff3bcc7ab988d34056d4a5f101a73f8a6198355067f7b7a56893ccd86', 176: '7344163beb2de656ea989d152fb621bbb57bd876e4f6c95909c9019217b3314e', 185: 'c3becf353a04afa8adaca072b0c0c86399c89eeea4641bfe7cf0077b7b432658', 187: '3b8d071b5277f1d87a073d45df9bedb7e93802ce06e1d7356365e82623d8b871', 193: '5895d4f518bb4a1feb9378983a2cef0f85652344432567afe7a2d454cf92a159', 194: '3960219ba6f3a41ebec05115354e95fcf3c0d796284c45e2aa3691f10842dbd0', 197: '1f68649458e4d151969c6f47188db0989a29e26246361b5b432efb3e7191b6f1', 203: 'cc95eecb855eee9feb5350f9b9a82c63828c38bd6ab3180df4ecfa97926c0623', 204: '85f07818133d5d8d061b099c1407c3fbe8030c160f382c08d0cb7f1b83fcf6f3', 208: '34d294e1bfa29cf6261d42714717d104199b26a37e6fb8292966d1a4581a1e25', 212: 'eda92902c235c03f2333d4679cd1f6d2adc7f2a7db69363ab8228e39d7eab2aa', 215: 'ae8054e21811c631f6328fd10ee4cfb89e42c363a49c9df398cf2470556a05ce', 223: '536da0b57fdf4fc75a5dd4d17cfefa5bcd8cb165990e314e9206089bb02aa768', 228: 'f225dc172334ef00ec946f51ad345b78d33ba5609f33dccc43a7dd96f6399de6', 232: '6b2fd954231a172f2590952012bb086af9340cf52c23aef103cea692514d42af', 240: '70c295800a0f37b11fdd7d62940bc1f64607322a52e53cc2f0db3a62e61f6f75', 243: '3f0409fb7a9913045332da1030280f499936a7988e6ad697ec5a42bea5f35da8', 246: 'a44fde7e8fff39b560105416f36f78b6e10e77a3ac73a65aaad5c76c025e2835', 249: 'dff03e48909f531105e5e426572b5f022527ea4690682d652d7cc0ccf9f733c9', 250: '5a3b9f10b7f9f16ba0a717332025a54968b72648df5dc3f523b5c5f2d647744b', 252: '41c7cc50cafc72c02af44f02bd30cb96f9cec68ce9fc8104791536daaca75ca4', 255: '602e597647ece58821aee74583f92c6d3ee303a1cbb8ee1f10fb21a3f1016e47'}}\n"
     ]
    }
   ],
   "source": [
    "print(merkle_proofs)\n"
   ]
  },
  {
   "cell_type": "code",
   "execution_count": 1296,
   "metadata": {
    "vscode": {
     "languageId": "python"
    }
   },
   "outputs": [
    {
     "name": "stdout",
     "output_type": "stream",
     "text": [
      "{7: {0: 152054995861607741432481830482883266025, 1: 250062195120342061142059609963934125849, 6: 318755054288223216730274134531131265188, 7: 252826997722784147915153263742516742147, 8: 236859811017459994767737891201950564265, 9: 79203319188424091541982867654605373384, 10: 290018386877190417569652182183738691184, 11: 4564686719790332961260162232873242908, 16: 50540118137512296279670958110937275991, 17: 123196411840051075631886956951693600605, 18: 228562390488432156180209574300874757286, 19: 196597764477297452772837087492265732411, 24: 272915289029160159017647951542848655744, 25: 228649678674479867843968477454025452655, 26: 39492014146543973419486282445083454500, 27: 198524624249248115397028494875488825548, 28: 227827429810247933980809150582750758796, 29: 110151171720878833973135355766168026867, 30: 67660489579233206530613794948444522039, 31: 300485691199597695533713472148475899182, 32: 39183359749174127800720151236215826285, 33: 271321742002242097030562298059705020457, 34: 259378993914554729213248439973844712119, 35: 20624971302403891606856847522371522274, 36: 162375822436901150009222938078662691281, 37: 109074135159206347346084071294168210033, 38: 277753575816681148272200139994577274814, 39: 189672366834855372307227975412034466961, 50: 122895858726351835641882341102366060509, 51: 99346723831014045308478762107860490027, 52: 31384904459196612326869895899860704038, 53: 306533205641107439079898254456083042130, 56: 33194470037256872752003067241670530545, 57: 62269663943166658577446974432695749399, 58: 281444102867886026326384813448437271316, 59: 312983933737303716003096481046059321752, 60: 210559375156267537478903322776214254000, 61: 924358580800611777928634635159424245, 64: 281118467129246742436745632607549974005, 65: 65655774357629918606140380779245312443, 68: 230956542349601220210497450408185585923, 69: 98552466278640023506971563715890132466, 70: 4806328507267730537127383408795421355, 71: 178668160952813831795758620123250110003, 72: 160710091278884313280119756118974490497, 73: 63749523523318741361482721432463107080, 74: 74193389275063644288307819690016139076, 75: 232596186128306353174113962365853908358, 80: 257207681103292656369336718978063729822, 81: 178068788384409799093620082867508015927, 82: 269252539570470467882222305355317762199, 83: 215847389513075674591637068183854323912, 86: 201462653482508684778314518678645277404, 87: 57858926076300890998241329854673091185, 90: 57355580128199077170359222240338307665, 91: 46587652032654748451130524467758038713, 92: 243144926697806033151055946274472866242, 93: 17435970273354591230506385924947936779, 96: 323320497503505746109430326873074645233, 97: 220405660076302802653456567584855790982, 98: 45181067004261897519250267913287780037, 99: 39715781097579905727256607036688921263, 102: 239422165346461426929452511311095948334, 103: 301105186512806362398930628442787726019, 106: 150735422933040930984869648440298283853, 107: 82385294160947307332477264595517414820, 108: 88849176740465238202866888090530091229, 109: 304543472274617643866786562918734302080, 110: 260871197403788128108051091179140568980, 111: 20735346645381439932292387403286628730, 116: 165109108562034140966010140471422751594, 117: 146785419852292593888019643767181709777, 120: 39826626331995987335574582381557739753, 121: 151286488185243204764809987023617733537, 124: 203621664739974028563644272826465943364, 125: 322541401073446049009182835729148805812, 126: 149299967220250605534627388864056921566, 127: 125535999610275091583845322879413948577}, 6: {4: 55774578914150808989749790987936476860, 5: 321615195182878333476760126749682503560, 8: 81791086396632877181606010491260256727, 9: 336892629103857539305910752783289106582, 12: 173543699448275256759896655480671473892, 13: 323157644365968138236108397638999348818, 14: 71612047872999154947835545883579855208, 15: 79277050571013855105651055041498401920, 16: 128245216293216956570805155714100359505, 17: 180066858691275275797289825436101364305, 18: 8745308291512540097494669562786345240, 19: 137777824023280858701357412857155935175, 28: 215763794412176949175623729742429017441, 29: 215464898486579083438518583195340605730, 34: 121391255909915006700129525663292295454, 35: 167717133792348383965408012130997902584, 36: 117091386771461335370921994466716470508, 37: 144495343657757928095001003703739086254, 40: 53420222578147512627629677733968390613, 41: 149027185388627957512132129266223840904, 48: 156295722863478385184170407835275558652, 49: 146173758742049429409331182152225831296, 54: 26290460341276245990702341086996613755, 55: 62782282992427386455909859789334664, 62: 311723105644215469938097149071239420900, 63: 120110862446891445115597355293333278518}, 5: {6: 131672061307691163499954224358583927893, 7: 246412287752844297791078633962030380535, 8: 24829756775039883033351576805608070849, 9: 44875093401644394760816659858674074472}, 4: {}}\n"
     ]
    }
   ],
   "source": [
    "print(seed_path)"
   ]
  },
  {
   "cell_type": "code",
   "execution_count": null,
   "metadata": {
    "vscode": {
     "languageId": "python"
    }
   },
   "outputs": [],
   "source": []
  }
 ],
 "metadata": {
  "kernelspec": {
   "display_name": "SageMath 9.3",
   "language": "sage",
   "name": "sagemath"
  },
  "language_info": {
   "codemirror_mode": {
    "name": "ipython",
    "version": 3
   },
   "file_extension": ".py",
   "mimetype": "text/x-python",
   "name": "sage",
   "nbconvert_exporter": "python",
   "pygments_lexer": "ipython3",
   "version": "3.7.10"
  },
  "orig_nbformat": 4
 },
 "nbformat": 4,
 "nbformat_minor": 2
}
