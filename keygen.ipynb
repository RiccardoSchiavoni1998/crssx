{
 "cells": [
  {
   "cell_type": "code",
   "execution_count": 343,
   "metadata": {},
   "outputs": [],
   "source": [
    "import random\n",
    "\n",
    "p = 31\n",
    "Fp = GF(p)\n",
    "n = 256\n",
    "k = 52\n",
    "r = n-k\n",
    "t = n\n",
    "z = 3\n",
    "alpha = Fp.primitive_element()\n",
    "Fz = GF(z)\n",
    "\n"
   ]
  },
  {
   "cell_type": "code",
   "execution_count": 344,
   "metadata": {},
   "outputs": [],
   "source": [
    "#Obtaining generator\n",
    "def get_generator(p, z, Fp):\n",
    "    #controllo p primo\n",
    "    assert is_prime(p),\"p is not prime!\"\n",
    "    assert (p-1)%z == 0, \"z does not divide p-1!\"\n",
    "    #prendo elemtno primitivo di Fp\n",
    "    alpha = Fp.primitive_element()\n",
    "    #non ricordo perchè exp e g sono scelti secondo questa logica\n",
    "    exp = (p-1)/z\n",
    "    g = alpha**exp\n",
    "    return g\n",
    "\n",
    "#def get_E(g, z):\n",
    "#    return [g^l for l in range(z)]\n",
    "\n",
    "def create_elemEn(g, n, Fp, seed):\n",
    "    set_random_seed(seed)\n",
    "    η = random_vector(Fz, n)\n",
    "    e = vector(Fp, n)\n",
    "    #va permutato?\n",
    "    for i in range(0, n):#range check\n",
    "        e[i] = (g**η[i])\n",
    "    return e\n",
    "\n",
    "def create_random_matrix(domain, n_rows, n_columns, seed):\n",
    "    set_random_seed(seed)\n",
    "    M = random_matrix(domain, n_rows, n_columns)\n",
    "    return M"
   ]
  },
  {
   "cell_type": "code",
   "execution_count": 345,
   "metadata": {},
   "outputs": [],
   "source": [
    "def key_gen():\n",
    "    set_random_seed()\n",
    "    seed_sk = initial_seed() \n",
    "    #seed_sk.bit_length()\n",
    "    #---------------CSPRNG A CASO----------------\n",
    "    seed_e = seed_sk+1\n",
    "    seed_pk = seed_sk-1\n",
    "    #--------------------------------------------   \n",
    "    V = create_random_matrix(Fp, k, r, seed_pk) \n",
    "    g = get_generator(p, z, Fp)\n",
    "    e = create_elemEn(g, n, Fp, seed_e)\n",
    "    s = e[0:r] + e[r:n]*V\n",
    "    #H = I_rxr | V rxk  (H rxn)\n",
    "    # S r = e[r] + \n",
    "    return seed_sk, seed_e, s\n",
    "\n",
    "    #print(sk.bit_length())\n",
    "#seed_sk, seed_e, s = key_gen()"
   ]
  },
  {
   "cell_type": "code",
   "execution_count": 366,
   "metadata": {},
   "outputs": [
    {
     "name": "stdout",
     "output_type": "stream",
     "text": [
      "75350524546183723381430756188532283683\n",
      "75350524546183723381430756188532283684\n",
      "(27, 7, 29, 9, 9, 7, 24, 3, 24, 28, 10, 2, 23, 16, 13, 24, 29, 28, 4, 1, 27, 30, 23, 0, 16, 16, 11, 15, 7, 16, 4, 24, 26, 4, 14, 7, 1, 11, 12, 27, 9, 22, 11, 19, 1, 20, 3, 21, 16, 2, 1, 4, 6, 15, 15, 12, 18, 12, 28, 25, 22, 9, 30, 30, 15, 2, 29, 26, 29, 7, 27, 14, 21, 8, 19, 16, 11, 23, 12, 24, 22, 4, 15, 6, 2, 9, 12, 18, 0, 21, 0, 20, 30, 2, 20, 12, 14, 5, 15, 0, 4, 20, 25, 24, 1, 22, 23, 12, 9, 22, 23, 14, 6, 26, 26, 9, 30, 13, 19, 5, 8, 5, 25, 0, 28, 4, 10, 6, 19, 10, 1, 24, 27, 12, 23, 29, 25, 3, 25, 10, 23, 13, 24, 26, 15, 18, 13, 6, 21, 30, 4, 21, 8, 8, 4, 29, 20, 18, 16, 20, 30, 21, 29, 27, 26, 12, 8, 6, 0, 28, 9, 21, 11, 12, 9, 8, 20, 14, 21, 13, 11, 10, 14, 12, 2, 30, 1, 20, 8, 26, 19, 20, 17, 19, 2, 26, 22, 16, 3, 4, 7, 6, 26, 23)\n"
     ]
    }
   ],
   "source": [
    "seed_sk, seed_e, s = key_gen()\n",
    "print(seed_sk)\n",
    "print(seed_e)\n",
    "print(s)\n"
   ]
  },
  {
   "attachments": {},
   "cell_type": "markdown",
   "metadata": {},
   "source": []
  }
 ],
 "metadata": {
  "kernelspec": {
   "display_name": "SageMath 9.3",
   "language": "sage",
   "name": "sagemath"
  },
  "language_info": {
   "codemirror_mode": {
    "name": "ipython",
    "version": 3
   },
   "file_extension": ".py",
   "mimetype": "text/x-python",
   "name": "python",
   "nbconvert_exporter": "python",
   "pygments_lexer": "ipython3",
   "version": "3.7.10"
  },
  "orig_nbformat": 4
 },
 "nbformat": 4,
 "nbformat_minor": 2
}
