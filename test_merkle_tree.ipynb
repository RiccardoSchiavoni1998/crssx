{
 "cells": [
  {
   "cell_type": "code",
   "execution_count": 624,
   "metadata": {},
   "outputs": [
    {
     "name": "stdout",
     "output_type": "stream",
     "text": [
      "16\n",
      "902e9d9d5f70dd2a9b8a7a332ae57a6125d2112e1ccf93d9d57b3c00b03ee445\n",
      "a72d5c9f0b2132b8276257eb139dafd91832d481af0f523127cd70be779b8638\n"
     ]
    }
   ],
   "source": [
    "list_cmt0 =['a952b726db5699f31090d9255c516514a11cad9af4bd0f3cd285d2722a55ca7d', 'd106da1c399218e5b18733d8a88bb5b0485b87d647af59320a73bff4514bd181', 'c099824f0600676bc8f32bcb764252b92a0e3c7780a9eee910ab95f4ddab05c5', '7e49dc5bae1af68df98f542f6752e764ef7b820e1d75e014f22b56b695841d6c', '902e9d9d5f70dd2a9b8a7a332ae57a6125d2112e1ccf93d9d57b3c00b03ee445', '2bf2e58a507580b1094a54626600307f1c85c1e7bea1be272141db022d91b1ec', 'f16ca6a7e263e275ec1ee0db59ae1490e23f15c17532caf0f60b86bf5e1e8d13', 'da73600c2ee2bace2aff6d22aaab0e02f2a78bb811ccebb4bc37bcc6729ef267', '802278be2ac0856fb95632d9389d3a241cb1489a6f21360be50b0158b94d7c74', '31aa3cdb91b1849d7ac58c09c454d5d23c6d94606e7831ab70694589f274c462', 'a72d5c9f0b2132b8276257eb139dafd91832d481af0f523127cd70be779b8638', 'f7cc8b27d4646666c25e67886bc9488f25348c46c6a3e6ed5d3e60f72e4b5e67', '71a5d0b1efe9efe7c53391843e9cddc1ee3420550058e96b2eb11cafa8c28498', '07db2db5a4e17a2bdd42014c0373af5aebd8a816fc6ad10dc064a7ea94993e77', '235c640907c3ebe4a43048c9c470fc0f35f2a2b0677e43e5af49c6c91e608934', '23673210206eb725ea4f6c47d1ed9301426b1a10e2f18a014ec997dd18ef75d3']\n",
    "print(len(list_cmt0))\n",
    "print(list_cmt0[4])\n",
    "print(list_cmt0[10])\n",
    "def hexhash(input):\n",
    "    return hashlib.sha256(input.encode()).hexdigest()"
   ]
  },
  {
   "cell_type": "code",
   "execution_count": 625,
   "metadata": {},
   "outputs": [],
   "source": [
    "#MERKLE TREE\n",
    "\n",
    "class MerkleTree:\n",
    "    def __init__(self, n_leaves):\n",
    "        if(n_leaves%2==0):\n",
    "            self.n_leaves = n_leaves\n",
    "            self.depth = log(n_leaves, 2) \n",
    "            self.tree =  None\n",
    "            self.merkle_proof =  None\n",
    "            self.full = False\n",
    "        else:\n",
    "            raise Exception('Il numero delle foglie deve essere una porenza di 2')\n",
    "\n",
    "    #METODI PUBBLICI \n",
    "    def make_tree(self, leaves):\n",
    "        if isinstance(leaves, list) and len(leaves) == self.n_leaves and not(self.full): \n",
    "            self.tree = []\n",
    "            self.tree.append(leaves)  \n",
    "            self.__make_tree(leaves, self.depth-1) \n",
    "            self.full = True\n",
    "        else:\n",
    "            raise Exception('Il numero delle foglie deve essere pari a {}'.format(self.n_leaves))\n",
    "       \n",
    "    def get_root(self):\n",
    "        if self.full:\n",
    "            return self.tree[0][0]\n",
    "        else:\n",
    "            raise Exception('Albero non creato')\n",
    "\n",
    "    def get_merkle_proof(self):\n",
    "        if self.full and self.merkle_proof is not None:\n",
    "            return self.merkle_proof\n",
    "\n",
    "    def compute_proof(self, list_nodes):\n",
    "        if all(self.full or 1 <= node <= 2**self.depth for node in list_nodes):\n",
    "            self.merkle_proof={}\n",
    "            list_leaves = sorted(list(map(lambda x: x+1 if x % 2 == 0 else x-1, list_nodes))) \n",
    "            self.__compute_merkle_proof(self.depth, list_leaves)\n",
    "            list_leaves = list(filter(lambda x: x not in list_nodes, list_leaves)) \n",
    "            self.merkle_proof[self.depth] = dict(map(lambda x: (x, self.tree[self.depth][x]), list_leaves)) \n",
    "            #self.merkle_proof = sorted(self.merkle_proof.items())\n",
    "            self.merkle_proof = {k: self.merkle_proof[k] for k in sorted(self.merkle_proof, key=lambda x: int(x))}\n",
    "        else:\n",
    "            raise Exception('Albero non creato o foglia non valida')\n",
    "\n",
    "    def recompute_root(self, merkle_proof, leaves):\n",
    "        if len(leaves)<self.n_leaves:\n",
    "            return self.__recompute_root(merkle_proof, leaves)\n",
    "    \n",
    "    #METODI PRIVATI\n",
    "\n",
    "    def __make_tree(self, list_nodes, depth): \n",
    "        if(depth>=0): \n",
    "            list_parent = self.__create_new_level(list_nodes) \n",
    "            self.tree.insert(0, list_parent)\n",
    "            self.__make_tree(list_parent, depth-1) \n",
    "\n",
    "    def __create_new_level(self, child_nodes):\n",
    "        parents = [] \n",
    "        for i in range(0, len(child_nodes), 2): \n",
    "            new_node = self.__compute_father_value(child_nodes[i], child_nodes[i+1]) \n",
    "            parents.append(new_node)\n",
    "        return parents\n",
    "        \n",
    "    def __compute_father_value(self, sx, dx):\n",
    "        return hexhash(sx+dx)\n",
    "    \n",
    "    def __compute_merkle_proof(self, depth, list_index):\n",
    "        if(depth > 1): \n",
    "            list_parent = sorted(list(set(map(lambda elem: ((elem // 2) + 1) if (elem // 2) % 2 == 0 else (elem // 2) - 1, list_index))))  \n",
    "            parent_proof = list(filter(lambda x: x*2 not in list_index and (x*2)+1 not in list_index, list_parent))\n",
    "            if len(parent_proof)>0:\n",
    "                self.merkle_proof[depth-1] = dict(map(lambda x: (x, self.tree[depth-1][x]), parent_proof)) \n",
    "            self.__compute_merkle_proof(depth-1, list_parent) \n",
    "\n",
    "    def __recompute_root(self, merkle_proof, nodes):\n",
    "        if len(merkle_proof)==0:\n",
    "            print(\"0\",nodes[0])\n",
    "            print(\"1\",nodes[1])\n",
    "            return self.__compute_father_value(nodes[0],nodes[1])\n",
    "        else:\n",
    "            index = max(merkle_proof.keys())\n",
    "            current_level = merkle_proof[index]\n",
    "            merged_nodes = {**current_level, **nodes}\n",
    "            merged_nodes = dict(sorted(merged_nodes.items()))\n",
    "            new_nodes = {}\n",
    "            for key in merged_nodes:\n",
    "                new_key = key//2\n",
    "                if new_key in new_nodes.keys():\n",
    "                    new_nodes[new_key] = self.__compute_father_value(new_nodes[new_key],merged_nodes[key])\n",
    "                else:\n",
    "                    new_nodes[new_key] = merged_nodes[key]\n",
    "            del merkle_proof[index]\n",
    "            return self.__recompute_root(merkle_proof, new_nodes)"
   ]
  },
  {
   "cell_type": "code",
   "execution_count": 626,
   "metadata": {},
   "outputs": [
    {
     "name": "stdout",
     "output_type": "stream",
     "text": [
      "0 8d9f472a94e46f2db3f6125ba472fd987b696a0f03ada1a8ddda347faf3ce706\n",
      "1 1b31b1f20042f483e5af5e656c6f2025d48bf1c9e21dcf03de5393913e23130d\n",
      "True\n"
     ]
    }
   ],
   "source": [
    "t = 16\n",
    "merkle_tree = MerkleTree(t)\n",
    "merkle_tree.make_tree(list_cmt0)\n",
    "c0 = merkle_tree.get_root()\n",
    "#index_0 = [1, 2, 3, 5, 8, 9, 11, 12, 13]\n",
    "index_0 = [4, 10]\n",
    "merkle_tree.compute_proof(index_0)\n",
    "root= merkle_tree.get_root()\n",
    "proof = merkle_tree.get_merkle_proof()\n",
    "#    #print(list(proof[x].keys()))\n",
    "list_cmt={4:\"902e9d9d5f70dd2a9b8a7a332ae57a6125d2112e1ccf93d9d57b3c00b03ee445\", 10:\"a72d5c9f0b2132b8276257eb139dafd91832d481af0f523127cd70be779b8638\"}\n",
    "recomp_root=merkle_tree.recompute_root(proof, list_cmt)\n",
    "\n",
    "print(c0==recomp_root)\n"
   ]
  },
  {
   "cell_type": "markdown",
   "metadata": {},
   "source": [
    "vector0 = [1, 2, 3, 5, 8, 9, 11, 13, 14]\n",
    "vector1 = [0, 2, 3, 4, 8, 9, 10, 12, 15]\n",
    "print(v_2)\n",
    "vector2=[0, 1, 3, 4, 5, 6, 7]\n",
    "vector3=[0, 1, 2, 3]\n",
    "vector4=[0, 1]\n",
    "vector4 = list(filter(lambda x: x*2 not in next_proof and (x*2)+1 not in vector3, vector4)) #per ogni nodo del livello corrente elimino tutti quelli che hanno i figli nel successivo\n",
    "vector3 = list(filter(lambda x: x*2 not in next_proof and (x*2)+1 not in vector2, vector3)) #per ogni nodo del livello corrente elimino tutti quelli che hanno i figli nel successivo\n",
    "vector2 = list(filter(lambda x: x*2 not in next_proof and (x*2)+1 not in vector1, vector2)) #per ogni nodo del livello corrente elimino tutti quelli che hanno i figli nel successivo\n",
    "vector2 = list(filter(lambda x: x*2 not in next_proof and (x*2)+1 not in vector0, vector2)) #per ogni nodo del livello corrente elimino tutti quelli che hanno i figli nel successivo\n",
    "vector1 = list(filter(lambda x: x not in vector0, vector1)) #per ogni nodo del livello corrente elimino tutti quelli che hanno i figli nel successivo\n",
    "\n",
    "print(vector1)\n",
    "print(vector2)\n",
    "print(vector3)\n",
    "print(vector4)\n",
    "\n"
   ]
  }
 ],
 "metadata": {
  "kernelspec": {
   "display_name": "SageMath 9.3",
   "language": "sage",
   "name": "sagemath"
  },
  "language_info": {
   "codemirror_mode": {
    "name": "ipython",
    "version": 3
   },
   "file_extension": ".py",
   "mimetype": "text/x-python",
   "name": "python",
   "nbconvert_exporter": "python",
   "pygments_lexer": "ipython3",
   "version": "3.7.10"
  },
  "orig_nbformat": 4
 },
 "nbformat": 4,
 "nbformat_minor": 2
}
